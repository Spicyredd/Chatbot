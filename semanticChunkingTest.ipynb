{
 "cells": [
  {
   "cell_type": "code",
   "execution_count": null,
   "metadata": {},
   "outputs": [],
   "source": [
    "#semantic-router"
   ]
  },
  {
   "cell_type": "code",
   "execution_count": null,
   "metadata": {},
   "outputs": [],
   "source": [
    "import pdfplumber\n",
    "\n",
    "with pdfplumber.open('test.pdf') as pdf:\n",
    "    pdf_text = \" \".join(page.extract_text() or \"\" for page in pdf.pages)"
   ]
  },
  {
   "cell_type": "code",
   "execution_count": null,
   "metadata": {},
   "outputs": [],
   "source": [
    "from langchain_experimental.text_splitter import SemanticChunker\n",
    "from langchain_huggingface import HuggingFaceEmbeddings"
   ]
  },
  {
   "cell_type": "code",
   "execution_count": null,
   "metadata": {},
   "outputs": [],
   "source": [
    "# embeddings = HuggingFaceEmbeddings(model_name=\"sentence-transformers/all-MiniLM-L6-v2\")\n",
    "embeddings = HuggingFaceEmbeddings(model_name=\"avsolatorio/GIST-Embedding-v0\")"
   ]
  },
  {
   "cell_type": "code",
   "execution_count": null,
   "metadata": {},
   "outputs": [],
   "source": [
    "text_splitter = SemanticChunker(\n",
    "    embeddings=embeddings,\n",
    "    breakpoint_threshold_type=\"percentile\",\n",
    "    breakpoint_threshold_amount=0.5,\n",
    "    min_chunk_size=100\n",
    ")"
   ]
  },
  {
   "cell_type": "code",
   "execution_count": null,
   "metadata": {},
   "outputs": [],
   "source": [
    "documents = text_splitter.create_documents([pdf_text])"
   ]
  },
  {
   "cell_type": "code",
   "execution_count": null,
   "metadata": {},
   "outputs": [],
   "source": [
    "print(documents)"
   ]
  },
  {
   "cell_type": "code",
   "execution_count": null,
   "metadata": {},
   "outputs": [],
   "source": [
    "from langchain.vectorstores import FAISS"
   ]
  },
  {
   "cell_type": "code",
   "execution_count": null,
   "metadata": {},
   "outputs": [],
   "source": [
    "vectorStore = FAISS.from_documents(documents, embeddings)"
   ]
  },
  {
   "cell_type": "code",
   "execution_count": null,
   "metadata": {},
   "outputs": [],
   "source": [
    "vectorStore.similarity_search(\"Chapter\", k=20)"
   ]
  },
  {
   "cell_type": "code",
   "execution_count": null,
   "metadata": {},
   "outputs": [],
   "source": [
    "response = vectorStore.similarity_search(\"Chapter\", k=20)"
   ]
  },
  {
   "cell_type": "code",
   "execution_count": null,
   "metadata": {},
   "outputs": [],
   "source": [
    "add_fun = lambda y:y+10\n",
    "print(add_fun(5))"
   ]
  },
  {
   "cell_type": "code",
   "execution_count": null,
   "metadata": {},
   "outputs": [],
   "source": [
    "from langchain.docstore import InMemoryDocstore\n",
    "from langchain.schema.output_parser import StrOutputParser\n",
    "from langchain.prompts import ChatPromptTemplate\n",
    "from langchain_google_genai import ChatGoogleGenerativeAI\n",
    "from langchain.schema.runnable import RunnableMap"
   ]
  },
  {
   "cell_type": "code",
   "execution_count": null,
   "metadata": {},
   "outputs": [],
   "source": [
    "template = '''\n",
    "    You are a service assitant for general public\n",
    "    These are context for a question\n",
    "    {context}\n",
    "    Reply to them based on question :{question}\n",
    "'''\n",
    "llm = ChatGoogleGenerativeAI(model=\"gemini-2.0-flash\")\n",
    "prompt = ChatPromptTemplate.from_template(template)\n",
    "output_parser = StrOutputParser()\n",
    "query = \"How many chapters are there?\""
   ]
  },
  {
   "cell_type": "code",
   "execution_count": null,
   "metadata": {},
   "outputs": [],
   "source": [
    "def log_input(x):\n",
    "    print(x)\n",
    "    return x\n",
    "\n",
    "def parse_vector(x):\n",
    "    contents = vectorStore.similarity_search(x, k=20)\n",
    "    # contents = [content.page_content for content in contents]\n",
    "    return contents"
   ]
  },
  {
   "cell_type": "code",
   "execution_count": null,
   "metadata": {},
   "outputs": [],
   "source": [
    "chain = RunnableMap({\n",
    "    \"context\": lambda x:vectorStore.similarity_search(x['question'], k=20),\n",
    "    \"question\": lambda x:x['question']\n",
    "}) | prompt | log_input| llm | output_parser"
   ]
  },
  {
   "cell_type": "code",
   "execution_count": null,
   "metadata": {},
   "outputs": [],
   "source": [
    "chain.invoke({\"question\": query})"
   ]
  },
  {
   "cell_type": "code",
   "execution_count": null,
   "metadata": {},
   "outputs": [],
   "source": [
    "chain.invoke({\"question\": \"List all the chapter\"})\n"
   ]
  },
  {
   "cell_type": "code",
   "execution_count": null,
   "metadata": {},
   "outputs": [],
   "source": [
    "chain.invoke({\"question\": \"Summarize chapter 7\"})"
   ]
  },
  {
   "cell_type": "code",
   "execution_count": null,
   "metadata": {},
   "outputs": [],
   "source": [
    "import PyPDF2\n",
    "\n",
    "with open('test.pdf', 'rb') as file:\n",
    "    reader = PyPDF2.PdfReader(file)\n",
    "    metadata = reader.metadata\n",
    "    print(metadata)\n"
   ]
  },
  {
   "cell_type": "code",
   "execution_count": null,
   "metadata": {},
   "outputs": [],
   "source": [
    "vectorStoreTest = FAISS.from_texts([\"Chapter\", \"Heading\"], embeddings)"
   ]
  },
  {
   "cell_type": "code",
   "execution_count": null,
   "metadata": {},
   "outputs": [],
   "source": [
    "vectorStoreTest.similarity_search_with_relevance_scores(\"Chapter\")"
   ]
  },
  {
   "cell_type": "code",
   "execution_count": null,
   "metadata": {},
   "outputs": [],
   "source": [
    "pdf_text"
   ]
  },
  {
   "cell_type": "markdown",
   "metadata": {},
   "source": []
  },
  {
   "cell_type": "code",
   "execution_count": null,
   "metadata": {},
   "outputs": [],
   "source": [
    "import pdfplumber\n",
    "with pdfplumber.open(\"test.pdf\") as pdf:\n",
    "    for page in pdf.pages:\n",
    "        for idx in range(len(page.chars)):\n",
    "            if len(page.chars) < idx+1:\n",
    "                if  page.chars[idx+1] == \"\":\n",
    "                    print(page.chars[idx]['size'], page.chars[idx]['text'], end=\"\")\n",
    "            else:\n",
    "                print(page.chars[idx]['text'], end=\"\")"
   ]
  },
  {
   "cell_type": "code",
   "execution_count": null,
   "metadata": {},
   "outputs": [],
   "source": [
    "print(\"#\"*25)\n",
    "print(\"Agentic Chunking\")\n",
    "print(\"#\"*25)"
   ]
  },
  {
   "cell_type": "code",
   "execution_count": 60,
   "metadata": {},
   "outputs": [
    {
     "data": {
      "text/plain": [
       "True"
      ]
     },
     "execution_count": 60,
     "metadata": {},
     "output_type": "execute_result"
    }
   ],
   "source": [
    "import pdfplumber\n",
    "from langchain import hub\n",
    "from pydantic import BaseModel, Field\n",
    "from dotenv import load_dotenv\n",
    "from typing import Optional, List\n",
    "from langchain.prompts import ChatPromptTemplate\n",
    "from langchain.schema.runnable import RunnableMap\n",
    "from langchain_core.runnables import RunnableLambda\n",
    "from langchain.chains import create_extraction_chain\n",
    "from langchain_google_genai import ChatGoogleGenerativeAI\n",
    "from langchain_core.prompts import ChatMessagePromptTemplate\n",
    "from langchain.chains import create_extraction_chain_pydantic\n",
    "from langchain.output_parsers.openai_tools import JsonOutputToolsParser\n",
    "\n",
    "with pdfplumber.open(\"test.pdf\") as pdf:\n",
    "    text = \" \".join(page.extract_text() or \"\" for page in pdf.pages)\n",
    "        \n",
    "    \n",
    "load_dotenv()"
   ]
  },
  {
   "cell_type": "code",
   "execution_count": null,
   "metadata": {},
   "outputs": [],
   "source": [
    "prompt_template = ChatPromptTemplate.from_messages(\n",
    "    [\n",
    "        (\n",
    "            '''Decompose the \"Content\" into clear, simple propositions that are interpretable without additional context.\n",
    "\n",
    "1. Identify and extract hierarchical labels (e.g., titles, chapters, sections) from the text to infer metadata.\n",
    "2. When chapter changes create new instance of Chunk\n",
    "3. Split compound sentences into simple sentences while preserving the original phrasing when possible.\n",
    "4. If a named entity has descriptive information, separate the description into a distinct proposition.\n",
    "5. Decontextualize propositions by:\n",
    "   - Adding necessary modifiers to nouns or sentences.\n",
    "   - Replacing pronouns (e.g., \"it\", \"he\", \"she\", \"they\", \"this\", \"that\") with the full name of the referenced entity.\n",
    "6. Return the results as a JSON object with two fields:\n",
    "   - **metadata**: A list of inferred hierarchical labels.\n",
    "   - **sentences**: A list of decontextualized propositions.\n",
    "\n",
    "Example:\n",
    "\n",
    "Input:\n",
    "Title: Eostre. \n",
    "Section: Theories and interpretations, Connection to Easter Hares. \n",
    "Content: The earliest evidence for the Easter Hare (Osterhase) was recorded in south-west Germany in 1678 by the professor of medicine Georg Franck von Franckenau, but it remained unknown in other parts of Germany until the 18th century. Scholar Richard Sermon writes that \"hares were frequently seen in gardens in spring, and thus may have served as a convenient explanation for the origin of the colored eggs hidden there for children.\"\n",
    "\n",
    "Output:\n",
    "\n",
    "  \"metadata\": [\"Eostre\", \"Theories and interpretations\", \"Connection to Easter Hares\"], Note: when passing metadata standardize it\n",
    "  \"sentences\": [\n",
    "    \"The earliest evidence for the Easter Hare was recorded in south-west Germany in 1678 by Georg Franck von Franckenau.\",\n",
    "    \"Georg Franck von Franckenau was a professor of medicine.\",\n",
    "    \"The evidence for the Easter Hare remained unknown in other parts of Germany until the 18th century.\",\n",
    "    \"Richard Sermon was a scholar.\",\n",
    "    \"Richard Sermon hypothesizes that hares frequently seen in gardens during spring may explain the origin of the colored eggs hidden there for children.\"\n",
    "  ]\n",
    "\n",
    "\n",
    "Here is the text:\n",
    "'''\n",
    "        ),\n",
    "        (\"human\", \"{text}\"),\n",
    "    ]\n",
    ")\n",
    "\n"
   ]
  },
  {
   "cell_type": "code",
   "execution_count": 95,
   "metadata": {},
   "outputs": [],
   "source": [
    "class Chunks(BaseModel):\n",
    "    metadata: List[str] = Field(default=None,\n",
    "                                description=\"A hierarchical list of contextual labels (e.g., titles, chapters, sections) for this specific chunk of content.\")\n",
    "    sentences: List[str] = Field(default=None, description=\"A list of simple, decontextualized sentences belonging to this chunk (e.g., a chapter or section).\")\n",
    "    \n",
    "class Data(BaseModel):\n",
    "    contents: List[Chunks] = Field(default=[], description=\"A collection of content chunks, where each chunk corresponds to a chapter or section.\")\n"
   ]
  },
  {
   "cell_type": "code",
   "execution_count": 5,
   "metadata": {},
   "outputs": [],
   "source": [
    "with pdfplumber.open('test.pdf') as pdf:\n",
    "        pdf_text = \" \".join(page.extract_text() or \"\" for page in pdf.pages)"
   ]
  },
  {
   "cell_type": "code",
   "execution_count": 137,
   "metadata": {},
   "outputs": [],
   "source": [
    "google_llm = ChatGoogleGenerativeAI(model = \"gemini-2.0-flash\")\n",
    "structured_google_llm = google_llm.with_structured_output(schema=Data)\n",
    "chunkers = int(len(pdf_text)/5000)\n",
    "prepostion = []\n",
    "# start = \n",
    "prompt = prompt_template.invoke({\"text\": pdf_text[:20000]})\n",
    "new_prepostion = structured_google_llm.invoke(prompt)"
   ]
  },
  {
   "cell_type": "code",
   "execution_count": 132,
   "metadata": {},
   "outputs": [
    {
     "data": {
      "text/plain": [
       "Data(contents=[Chunks(metadata=['The Electronic Transactions Act, 2063 (2008)', 'Date of Authentication and Publication', '22 Mansir 2063 ( december 8, 2006)', 'Act number 27 of the year 2063', 'An Act promulgated for Electronic Transactions', 'Preamble'], sentences=['It is expedient to make legal provisions for authentication and regularization of the recognition, validity, integrity and reliability of generation, production, processing, storage, communication and transmission system of electronic records.', 'The legal provisions are to be made by making the transactions to be carried out by means of electronic data exchange or by any other means of electronic communications.', 'The transactions should be reliable and secured.', 'It is expedient for controlling the acts of unauthorized use of electronic records or of making alteration in such records through the illegal manner.', 'Be it enacted by the House of Representatives in the First Year of the issuance of the Proclamation of the House of Representatives, 2063(2007).']), Chunks(metadata=['Chapter - 1', 'Preliminary', '1. Short Title, Extension and Commencement'], sentences=['This Act may be called \"The Electronic Transactions act,2063 (2008)\".', 'This Act shall be deemed to have been commenced from 24 Bhadra 2063 ( sep.2, 2006).', 'This Act shall extend throughout Nepal.', 'This Act shall also apply to any person residing anywhere by committing an offence in contravention to this Act.']), Chunks(metadata=['2. Definitions'], sentences=['\"Asymmetric Crypto System\" means a system that creates a secured key-pair consisting of a private key creating a digital signature and a public key to verify the digital signature.', '\"License\" means a license obtained pursuant to Sub-section (3) of Section 18.', '\"Originator\" means a person who generates, stores or transmits electronic records.', 'The term Originator also includes a person who causes any other person to carry out such functions.', 'The term Originator shall not include an intermediary.', '\"Computer\" means an electro-magnetic, optical or other high-speed data processing device or system, which performs logical, arithmetic and memory functions by manipulating electro-magnetic or optical impulses.', 'The term Computer also includes all acts of input, output, processing, storage and computer software or communication facilities which are connected or related to the computer in any computer system or computer network.', '\"Computer Database\" means an information, knowledge and concept or presentation of instructions, which are being prepared or have already been prepared in word, image, voice or audio visual form in a formalized manner or which have been produced by a computer, computer system or computer network, with a view to use in a computer, computer system or computer network.', '\"Computer Network\" means an interrelationship between two or more than two computers having interconnection with each other or in contact of communication.', '\"Computer System\" means a device or a group of devices, containing all computer programmes including input and output support devices, electronic instructions, input and output data that performs logical, arithmetic, data storage and retrieval, communication including controlling functions.']), Chunks(metadata=['2. Definitions'], sentences=['\"Computer Resource\" means a computer, computer system, computer network, data, computer database or software.', '\"Subscriber\" means a person who has obtained a certificate under Sub-section (3) of Section 31.', '\"Key Pair\" means a private key in an asymmetric crypto system and of pair of public key, interconnected in a mathematics form with the private key which has a code to verify digital signature by the public key to be created from the private key.', '\"Data\" means the presentation of information, knowledge, fact and concept or instructions in any form, which are kept in a formalized manner in a computer system or computer network and is intended for processing the same, or processed or stored in a computer memory.', '\"Tribunal\" means the Information Technology Tribunal formed pursuant to section 60.', '\"Private Key\" means a key of any key pair used to create a digital signature.', '\"Controller\" means the Controller appointed or designated pursuant to section 13.', '\"Digital Signature\" means a signature made in any electronic form to be included in the transformation of electronic record by a person having a non- transformed initial electronic record and the public key of signatory by using a type of asymmetric crypto system that may clearly ascertain the following matters:']), Chunks(metadata=['2. Definitions'], sentences=['The Digital Signature ascertains whether or not transformation of electronic record was created by using a type of private key keeping a logical consistency with the public key of signatory.', 'The Digital Signature ascertains whether or not the initial electronic record has been changed after the transformation of electronic record.', '\"Access\" means an opportunity of gaining entry into, logical, arithmetical or resources of memory function of any computer, computer system or computer network, giving instructions to such resources or making communication contact with such resources.', '\"Appellate Tribunal\" means the Information Technology Appellate Tribunal formed pursuant to section 66.', '\"Certificate\" means a Digital Signature Certificate issued by the Certifying Authority under Section 30.', '\"Certification Practice Statement\" means any statement issued by a Certifying Authority to specify the practices to be applied by the Certifying Authority while issuing a Digital Signature Certificate.', '\"Certifying Authority\" means a certifying authority which has obtained a license to issue a Digital Signature Certificate under Sub-section (3) of Section 18.', '\"Addressee\" means a person receiving the processed electronic record as intended by the originator.', 'The term Addressee shall not include an intermediary.', '\"Electronic Record\" means the data, record, image or sound transmitted, received or stored in an electronic form by generating the same through any means.', '\"Electronic Form\" means a form of information transmitted, received or stored by generating the same through the means of magnetic, optical, computer memory or similar other devices.', '\"Public Key\" means a key of any key pair used to verify digital signature.', '\"Information\" means the data details of the scripted texts, images, sounds, codes, computer programmes, software and computer databases.']), Chunks(metadata=['2. Definitions'], sentences=['\"Information system\" means a system to generate, produce, transmit, receive, store and display information or to process the same by other method.', 'Software\" means any specific part of computer system such as system software and application software having the capacity for operating computer hardware.', '\"Computer Accessory\" means a technology such as computer resource, the information used by any institution in its business, a software-like item produced or purchased by such an institution, hardware and computer network.', '\"Government Authority\" means a Ministry, Secretariat, Department of Government of Nepal or the Offices thereunder, Constitutional Body or the Offices thereunder, Court or Tribunal or Office of the Nepal Army and it shall also includes other Offices of the similar nature.', '\"Public Institution\" means the following institutions:-', 'A company, bank or board whether fully or partially owned or controlled by Government of Nepal , or a Commission agency, authority, corporation, enterprise board, centre, council and other corporate body of the similar nature established by Government of Nepal pursuant to the laws prevailing is a Public Institution.', 'A university, school, research centre, and other similar academic or educational institutions operated by Government of Nepal or which have been receiving a full or partial grant from Government of Nepal is a Public Institution.', 'The Local Bodies formed under the Local Self-Governance Act, 1998 (2055 B.S) is a Public Institution.', 'The Institutions run on the loan, grant or guarantee of Government of Nepal is a Public Institution.']), Chunks(metadata=['2. Definitions'], sentences=['The Institution which is fully or partially owned or controlled by the institution referred to in sub-Clauses (1), (2), (3) or (4) or which receiving grant from such institution is a Public Institution.', 'Any other Institutions prescribed by Government of Nepal as a public institution by a notification published in the Nepal Gazette is a Public Institution.', '“Prescribed” or “As prescribed” means prescribed or as prescribed in Rules framed under this Act.']), Chunks(metadata=['Chapter - 2', 'Provisions Relating to Electronic Record and Digital Signature', '3. Authencity of Electronic Record'], sentences=['Any subscriber may, subject to the provisions of this section, authenticate to any electronic record by his/her personal digital signature.', 'While authenticating the electronic record pursuant to Sub-section (1), an act of transforming such electronic record to other electronic record shall be effected by the use of asymmetric crypto system and hash function.', 'For the purpose of this section, \"hash function\" means the acts of mapping of algorithm or translating of a sequence of bits into another, generally smaller, set yielding the same hash result from any record in the same form while executing the algorithm each and every time by using the same record as an input, infeasible to derive or reconstruct any record from the hash result produced by the algorithm from the computation point of view, and making the two records, which produce the same hash result by using the algorithm, computationally infeasible to derive.', 'Any person may verify the electronic record by using the public key of the subscriber.']), Chunks(metadata=['4. Legal Recognition of Electronic Record'], sentences=['Where the prevailing law requires any information, documents, records or any other matters to be kept in written or printed typewritten form, then, if such information, document, record or the matter is maintained in an electronic form by fulfilling the procedures as stipulated in this Act or the Rules made hereunder, such electronic record shall also have legal validity.']), Chunks(metadata=['5. Legal Recognition of Digital Signature'], sentences=['Where the prevailing law requires any information, document, record or any other matters to be certified by affixing signature or any document to be signed by any person; then, if such information, documents, records or matters are certified by the digital signature after fulfilling the procedures as stipulated in this Act or the Rules made hereunder, such digital signature shall also have legal validity.']), Chunks(metadata=['6. Electronic Records to be Kept Safely'], sentences=['Where the prevailing law requires any information, document or record to be kept safely for any specific period of time and if such information, document or record are kept safely in an electronic form, by fulfilling the following condition, such information, document or record shall have legal validity if that is kept in an accessible condition making available for a subsequent reference.', 'The information, document or record should be kept safely in the format that can be demonstrated subject to presenting again exactly in the same format in which they were originally generated and transmitted or received or stored.', 'The information, document or record should be kept making the details available by which the origin, destination and transmission or date and time of receipt can be identified.', 'The provision of this Clause shall not be applied in regard to any information to be generated automatically for the purpose of transmitting or receiving any record.']), Chunks(metadata=['7. Electronic Record May Fulfill the Requirement of Submission of any Original Document'], sentences=['Where the prevailing law requires that any record shall have to be submitted or retained in its main or original form or kept safely, then, such requirement shall, if the following terms are fulfilled, be deemed to have been satisfied by the electronic records: if there exits a ground as prescribed that can be believed that any type of change is not made in such record by any means from the fist time of its generation in electronics form.', 'If such record is of the nature where there is a compulsion of submitting such document to any person it could be clearly shown to such a person to whom it requires to do so.']), Chunks(metadata=['8. Secured Electronic Records'], sentences=['If the verification has been made as prescribed in connection with the matter as to whether or not any type of changes are made into the electronic records generated with the application of security procedures as prescribed, such electronic records shall be deemed to be a secured electronic records.']), Chunks(metadata=['9. Secured Digital Signature'], sentences=['Where any digital signature made in electronic record has been examined in a manner as prescribed with the application of such security procedure as prescribed, then, such digital signature shall be deemed to be a secured digital signature.']), Chunks(metadata=['Chapter - 3', 'Provision Relating to Dispatch, Receipt and Acknowledgement of Electronic Records', '10. Electronic Record to be Attributed to Originator'], sentences=['Any specific electronic record shall, in case of any of the following conditions, be attributed to the originator: If such an electronic record was transmitted by the originator himself/herself.', 'Any specific electronic record shall, in case of any of the following conditions, be attributed to the originator: If such an electronic record was transmitted by a person who had the authority to act on behalf of the originator in respect of such an electronic record.', 'Any specific electronic record shall, in case of any of the following conditions, be attributed to the originator: Such an electronic record was transmitted through any information system that was programmed by the originator or on behalf of the originator to operate automatically.', 'If any condition exists as prescribed in respect of electronic record transmitted pursuant to Sub-section (1), the addressee shall assume that such an electronic record is attributed to any particular originator and shall have the authority to act thereon accordingly.']), Chunks(metadata=['11. Procedure of Receipt and Acknowledgement of Electronic Record'], sentences=['Where the originator requests the addressee to transmit the acknowledgement or receipt of electronic record at the time of or before the dispatch of such electronic record or where there is an agreement between the originator and addressee to transmit the acknowledgement or receipt of such an electronic record, then, the provisions of Sub-sections (2), (3) and (4) shall be applied in relation to the receipt and acknowledgement of such an electronic record.', 'Where there is no agreement between the originator and addressee that information or acknowledgement of receipt of electronic record is to be given in a particular format or by a particular manner, such an information or receipt may be given as the following: by automated or any other means of communication by the addressee.', 'Where there is no agreement between the originator and addressee that information or acknowledgement of receipt of electronic record is to be given in a particular format or by a particular manner, such an information or receipt may be given as the following: by any conduct of the addressee sufficient to indicate that the originator has received electronic record.', 'Where the originator has stipulated in relation to any electronic record that such an electronic record shall be binding on him/her only after the receipt of information or acknowledgement of receipt of such electronic record from the addressee, then, unless the information or acknowledgement of receipt of such an electronic record has been so received from addressee, the electronic record shall not be deemed to have been transmitted by the originator.', 'Where the originator has not stipulated that the electronic record shall be binding only on receipt of such acknowledgement, and where the originator and addressee have not agreed upon or have not specified any time for acknowledgement of such receipt of electronic record, then, the originator shall have to receive such acknowledgement of receipt of such an electronic record from addressee within a specified time as prescribed.', 'If such acknowledgement of receipt is not received from addressee, then, such an electronic record shall be deemed to have not been transmitted by the originator.', 'Other procedures of receipt of acknowledgement of electronic record shall be as prescribed.']), Chunks(metadata=['12. Time and Place of Dispatch and Receipt of Electronic Record'], sentences=['Save as otherwise agreed between the originator and the addressee, the dispatch of an electronic record occurs when it enters into an information system outside the control of the originator.', 'Save as otherwise agreed between the originator and the addressee, the time of receipt of an electronic record shall be determined as prescribed.', 'Save as otherwise agreed between the originator and the addressee, an electronic record shall be deemed to have been dispatched from the place where the originator has his/her place of business and shall be deemed to have been received at the place where the addressee has his/her place of business.', 'For the purpose of this Sub-section \"the place of business\" means: In case the originator or the addressee has more than one place of business, the place of business means the place where the concerned business shall be operated', 'For the purpose of this Sub-section \"the place of business\" means: If the originator or the addressee does not have a place of business, their place of residence shall be considered their place of business.']), Chunks(metadata=['Chapter 4', 'Provisions Relating to Controller and Certifying Authority:', '13. Appointment of the Controller and other Employees'], sentences=['Government of Nepal may, by notification in the Nepal Gazette, designate any Government officer or appoint any person who has qualifications as prescribed in the office of the Controller.', 'Government of Nepal may, in order to assist the Controller to perform his/her functions to be performed under this Act, appoint or assign a Deputy Controller and other employees as required.', 'The employees so appointed or assigned shall perform their functions under the general direction and control of the Controller.']), Chunks(metadata=['14. Functions, Duties and Powers of the Controller'], sentences=['The functions, duties and powers of the controller shall be as follows: To issue a license to the certifying Authority.', 'The functions, duties and powers of the controller shall be as follows: To exercise the supervision and monitoring over the activities of Certifying Authority.', 'The functions, duties and powers of the controller shall be as follows: To fix the standards to be maintained by certifying authority in respect to the verification of digital signature.', 'The functions, duties and powers of the controller shall be as follows: To specify the conditions to be complied with by the certifying authority in operating his/her business.', 'The functions, duties and powers of the controller shall be as follows: To specify the format of the certificate and contents to be included therein.', 'The functions, duties and powers of the controller shall be as follows: To specify the procedures to be followed by the certifying authority while conducting his/her dealings with the subscribers.', 'The functions, duties and powers of the controller shall be as follows: To maintain a record of information disclosed by the certifying authority under this act and to make provision of computer database accessible to public and to update such database.', 'The functions, duties and powers of the controller shall be as follows: To perform such other functions as prescribed.']), Chunks(metadata=['15. License to be obtained'], sentences=['No person shall perform or cause to be performed the functions of a certifying authority without obtaining a license under this Act.']), Chunks(metadata=['16. Application to be submitted for a License'], sentences=['Any person willing to work as Certifying Authority by issuing a certificate under this Act and who has the qualifications as prescribed shall have to submit an application to the controller in a format as prescribed accompanied by a fee as prescribed for obtaining a license for the certification.', 'The applicant applying under Sub-section (1) shall also attach the following documents: Details regarding certification.', 'The applicant applying under Sub-section (1) shall also attach the following documents: Documents to prove the identification and verification of the applicant.', 'The applicant applying under Sub-section (1) shall also attach the following documents: Statements specifying the financial resources, human resources and other necessary facilities.', 'The applicant applying under Sub-section (1) shall also attach the following documents: Such other documents as prescribed.', 'The controller may, if he/she thinks necessary, ask the applicant to serve additional documents and details in connection to examine the appropriation of the applicant as to perform the function of Certifying Authority.', 'If the necessary additional documents and details are so asked, no actions shall be taken upon the application of the applicant unless he/she submits such documents and details.']), Chunks(metadata=['17. Other Functions and Duties of the Certifying Authority'], sentences=['Other functions and duties of the certifying authority, other than those to issue a certificate, to suspend or revoke it, shall be as prescribed.']), Chunks(metadata=['18. Procedure for granting of a license'], sentences=['The Controller may, on receipt of an application under section 16, after considering the qualification of applicant and also the documents and st'])])"
      ]
     },
     "execution_count": 132,
     "metadata": {},
     "output_type": "execute_result"
    }
   ],
   "source": [
    "new_prepostion"
   ]
  },
  {
   "cell_type": "code",
   "execution_count": 138,
   "metadata": {},
   "outputs": [],
   "source": [
    "with open(\"test.txt\", \"w\") as f:\n",
    "    f.write(str(new_prepostion.contents))"
   ]
  },
  {
   "cell_type": "code",
   "execution_count": 93,
   "metadata": {},
   "outputs": [
    {
     "data": {
      "text/plain": [
       "'The Electronic Transactions Act, 2063 (2008)\\nDate of Authentication and Publication\\n22 Mansir 2063 ( december 8, 2006)\\nAct number 27 of the year 2063\\nAn Act promulgated for Electronic Transactions\\nPreamble:\\nWHEREAS, it is expedient to make, legal provisions for authentication and\\nregularization of the recognition, validity, integrity and reliability of generation,\\nproduction, processing, storage, communication and transmission system of electronic\\nrecords by making the transactions to be carried out by means of electronic data\\nexchange or by any other means of electronic communications, reliable and secured;\\nAnd where as, for controlling the acts of unauthorized use of electronic records or of\\nmaking alteration in such records through the illegal manner,\\nNow, therefore, be it enacted by the House of Representatives in the First Year of the\\nissuance of the Proclamation of the House of Representatives, 2063(2007) .\\nChapter - 1\\nPreliminary\\n1. Short Title, Extension and Commencement: (1) This Act may be\\ncalled \"The Electronic Transactions act,2063 (2008)\".\\n(2) This Act shall be deemed to have been commenced from 24 Bhadra\\n2063 ( sep.2, 2006).\\n(3) This Act shall extend throughout Nepal and shall also apply to\\nany person residing anywhere by committing an offence in contravention to\\nthis Act.\\n2. Definitions: Unless the subject or context otherwise requires, in this Act,-\\n1 (a) \"Asymmetric Crypto System\" means a system that creates a secured\\nkey-pair consisting of a private key creating a digital signature and a\\npublic key to verify the digital signature.\\n(b) \"License\" means a license obtained pursuant to Sub-section (3) of\\nSection 18.\\n(c) \"Originator\" means a person who generates, stores or transmits\\nelectronic records, and this term also includes a person who causes any\\nother person to carry out such functions:\\nProvided that it shall not include an intermediary.\\n(d) \"Computer\" means an electro-magnetic, optical or other high-speed data\\nprocessing device or system, which performs logical, arithmetic and\\nmemory functions by manipulating electro-magnetic or optical impulses,\\nand also includes all acts of input, output, processing, storage and\\ncomputer software or communication facilities which are connected or\\nrelated to the computer in any computer system or computer network.\\n(e) \"Computer Database\" means an information, knowledge and concept or\\npresentation of instructions, which are being prepared or have already\\nbeen prepared in word, image, voice or audio visual form in a\\nformalized manner or which have been produced by a computer,\\ncomputer system or computer network, with a view to use in a\\ncomputer, computer system or computer network.\\n(f) \"Computer Network\" means an interrelationship between two or more\\nthan two computers having interconnection with each other or in contact\\nof communication.\\n(g) \"Computer System\" means a device or a group of devices, containing all\\ncomputer programmes including input and output support devices,\\nelectronic instructions, input and output data that performs logical,\\narithmetic, data storage and retrieval, communication including\\ncontrolling functions.\\n2 (h) \"Computer Resource\" means a computer, computer system, computer\\nnetwork, data, computer database or software.\\n(i) \"Subscriber\" means a person who has obtained a certificate under Sub-\\nsection (3) of Section 31.\\n(j) \"Key Pair\" means a private key in an asymmetric crypto system and of\\npair of public key, interconnected in a mathematics form with the\\nprivate key which has a code to verify digital signature by the public key\\nto be created from the private key.\\n(k) \"Data\" means the presentation of information, knowledge, fact and\\nconcept or instructions in any form, which are kept in a formalized\\nmanner in a computer system or computer network and is intended for\\nprocessing the same, or processed or stored in a computer memory.\\n(l) \"Tribunal\" means the Information Technology Tribunal formed pursuant\\nto section 60.\\n(m) \"Private Key\" means a key of a'"
      ]
     },
     "execution_count": 93,
     "metadata": {},
     "output_type": "execute_result"
    }
   ],
   "source": [
    "pdf_text[:4000]"
   ]
  },
  {
   "cell_type": "code",
   "execution_count": 118,
   "metadata": {},
   "outputs": [
    {
     "name": "stdout",
     "output_type": "stream",
     "text": [
      "Error\n",
      "Error\n"
     ]
    },
    {
     "ename": "ValidationError",
     "evalue": "1 validation error for Document\nmetadata\n  Input should be a valid dictionary [type=dict_type, input_value=['The Electronic Transact...cation and Publication'], input_type=list]\n    For further information visit https://errors.pydantic.dev/2.10/v/dict_type",
     "output_type": "error",
     "traceback": [
      "\u001b[1;31m---------------------------------------------------------------------------\u001b[0m",
      "\u001b[1;31mValidationError\u001b[0m                           Traceback (most recent call last)",
      "Cell \u001b[1;32mIn[118], line 11\u001b[0m\n\u001b[0;32m      9\u001b[0m     \u001b[38;5;28;01mif\u001b[39;00m \u001b[38;5;28mlen\u001b[39m(content\u001b[38;5;241m.\u001b[39mmetadata) \u001b[38;5;241m>\u001b[39m \u001b[38;5;241m0\u001b[39m:\n\u001b[0;32m     10\u001b[0m         \u001b[38;5;28mprint\u001b[39m(\u001b[38;5;124m\"\u001b[39m\u001b[38;5;124mError\u001b[39m\u001b[38;5;124m\"\u001b[39m)\n\u001b[1;32m---> 11\u001b[0m documents \u001b[38;5;241m+\u001b[39m\u001b[38;5;241m=\u001b[39m \u001b[43mDocument\u001b[49m\u001b[43m(\u001b[49m\u001b[43mmetadata\u001b[49m\u001b[38;5;241;43m=\u001b[39;49m\u001b[43mcontent\u001b[49m\u001b[38;5;241;43m.\u001b[39;49m\u001b[43mmetadata\u001b[49m\u001b[43m,\u001b[49m\u001b[43m \u001b[49m\u001b[43mpage_content\u001b[49m\u001b[38;5;241;43m=\u001b[39;49m\u001b[38;5;124;43m\"\u001b[39;49m\u001b[38;5;124;43mPlace holder\u001b[39;49m\u001b[38;5;124;43m\"\u001b[39;49m\u001b[43m)\u001b[49m\n",
      "File \u001b[1;32mc:\\Users\\rbeej\\Desktop\\Task\\.venv\\Lib\\site-packages\\langchain_core\\documents\\base.py:285\u001b[0m, in \u001b[0;36mDocument.__init__\u001b[1;34m(self, page_content, **kwargs)\u001b[0m\n\u001b[0;32m    282\u001b[0m \u001b[38;5;250m\u001b[39m\u001b[38;5;124;03m\"\"\"Pass page_content in as positional or named arg.\"\"\"\u001b[39;00m\n\u001b[0;32m    283\u001b[0m \u001b[38;5;66;03m# my-py is complaining that page_content is not defined on the base class.\u001b[39;00m\n\u001b[0;32m    284\u001b[0m \u001b[38;5;66;03m# Here, we're relying on pydantic base class to handle the validation.\u001b[39;00m\n\u001b[1;32m--> 285\u001b[0m \u001b[38;5;28;43msuper\u001b[39;49m\u001b[43m(\u001b[49m\u001b[43m)\u001b[49m\u001b[38;5;241;43m.\u001b[39;49m\u001b[38;5;21;43m__init__\u001b[39;49m\u001b[43m(\u001b[49m\u001b[43mpage_content\u001b[49m\u001b[38;5;241;43m=\u001b[39;49m\u001b[43mpage_content\u001b[49m\u001b[43m,\u001b[49m\u001b[43m \u001b[49m\u001b[38;5;241;43m*\u001b[39;49m\u001b[38;5;241;43m*\u001b[39;49m\u001b[43mkwargs\u001b[49m\u001b[43m)\u001b[49m\n",
      "File \u001b[1;32mc:\\Users\\rbeej\\Desktop\\Task\\.venv\\Lib\\site-packages\\langchain_core\\load\\serializable.py:125\u001b[0m, in \u001b[0;36mSerializable.__init__\u001b[1;34m(self, *args, **kwargs)\u001b[0m\n\u001b[0;32m    123\u001b[0m \u001b[38;5;28;01mdef\u001b[39;00m\u001b[38;5;250m \u001b[39m\u001b[38;5;21m__init__\u001b[39m(\u001b[38;5;28mself\u001b[39m, \u001b[38;5;241m*\u001b[39margs: Any, \u001b[38;5;241m*\u001b[39m\u001b[38;5;241m*\u001b[39mkwargs: Any) \u001b[38;5;241m-\u001b[39m\u001b[38;5;241m>\u001b[39m \u001b[38;5;28;01mNone\u001b[39;00m:\n\u001b[0;32m    124\u001b[0m \u001b[38;5;250m    \u001b[39m\u001b[38;5;124;03m\"\"\"\"\"\"\u001b[39;00m\n\u001b[1;32m--> 125\u001b[0m     \u001b[38;5;28;43msuper\u001b[39;49m\u001b[43m(\u001b[49m\u001b[43m)\u001b[49m\u001b[38;5;241;43m.\u001b[39;49m\u001b[38;5;21;43m__init__\u001b[39;49m\u001b[43m(\u001b[49m\u001b[38;5;241;43m*\u001b[39;49m\u001b[43margs\u001b[49m\u001b[43m,\u001b[49m\u001b[43m \u001b[49m\u001b[38;5;241;43m*\u001b[39;49m\u001b[38;5;241;43m*\u001b[39;49m\u001b[43mkwargs\u001b[49m\u001b[43m)\u001b[49m\n",
      "File \u001b[1;32mc:\\Users\\rbeej\\Desktop\\Task\\.venv\\Lib\\site-packages\\pydantic\\main.py:214\u001b[0m, in \u001b[0;36mBaseModel.__init__\u001b[1;34m(self, **data)\u001b[0m\n\u001b[0;32m    212\u001b[0m \u001b[38;5;66;03m# `__tracebackhide__` tells pytest and some other tools to omit this function from tracebacks\u001b[39;00m\n\u001b[0;32m    213\u001b[0m __tracebackhide__ \u001b[38;5;241m=\u001b[39m \u001b[38;5;28;01mTrue\u001b[39;00m\n\u001b[1;32m--> 214\u001b[0m validated_self \u001b[38;5;241m=\u001b[39m \u001b[38;5;28;43mself\u001b[39;49m\u001b[38;5;241;43m.\u001b[39;49m\u001b[43m__pydantic_validator__\u001b[49m\u001b[38;5;241;43m.\u001b[39;49m\u001b[43mvalidate_python\u001b[49m\u001b[43m(\u001b[49m\u001b[43mdata\u001b[49m\u001b[43m,\u001b[49m\u001b[43m \u001b[49m\u001b[43mself_instance\u001b[49m\u001b[38;5;241;43m=\u001b[39;49m\u001b[38;5;28;43mself\u001b[39;49m\u001b[43m)\u001b[49m\n\u001b[0;32m    215\u001b[0m \u001b[38;5;28;01mif\u001b[39;00m \u001b[38;5;28mself\u001b[39m \u001b[38;5;129;01mis\u001b[39;00m \u001b[38;5;129;01mnot\u001b[39;00m validated_self:\n\u001b[0;32m    216\u001b[0m     warnings\u001b[38;5;241m.\u001b[39mwarn(\n\u001b[0;32m    217\u001b[0m         \u001b[38;5;124m'\u001b[39m\u001b[38;5;124mA custom validator is returning a value other than `self`.\u001b[39m\u001b[38;5;130;01m\\n\u001b[39;00m\u001b[38;5;124m'\u001b[39m\n\u001b[0;32m    218\u001b[0m         \u001b[38;5;124m\"\u001b[39m\u001b[38;5;124mReturning anything other than `self` from a top level model validator isn\u001b[39m\u001b[38;5;124m'\u001b[39m\u001b[38;5;124mt supported when validating via `__init__`.\u001b[39m\u001b[38;5;130;01m\\n\u001b[39;00m\u001b[38;5;124m\"\u001b[39m\n\u001b[0;32m    219\u001b[0m         \u001b[38;5;124m'\u001b[39m\u001b[38;5;124mSee the `model_validator` docs (https://docs.pydantic.dev/latest/concepts/validators/#model-validators) for more details.\u001b[39m\u001b[38;5;124m'\u001b[39m,\n\u001b[0;32m    220\u001b[0m         stacklevel\u001b[38;5;241m=\u001b[39m\u001b[38;5;241m2\u001b[39m,\n\u001b[0;32m    221\u001b[0m     )\n",
      "\u001b[1;31mValidationError\u001b[0m: 1 validation error for Document\nmetadata\n  Input should be a valid dictionary [type=dict_type, input_value=['The Electronic Transact...cation and Publication'], input_type=list]\n    For further information visit https://errors.pydantic.dev/2.10/v/dict_type"
     ]
    }
   ],
   "source": [
    "from langchain_core.documents import Document\n",
    "\n",
    "documents = []\n",
    "\n",
    "for content in new_prepostion.contents:\n",
    "    temp = \"\"\n",
    "    for sentence in content.metadata:\n",
    "        # temp += sentence\n",
    "        if len(content.metadata) > 0:\n",
    "            print(\"Error\")\n",
    "    documents += Document(metadata=content.metadata, page_content=\"Place holder\")"
   ]
  },
  {
   "cell_type": "code",
   "execution_count": null,
   "metadata": {},
   "outputs": [],
   "source": []
  }
 ],
 "metadata": {
  "kernelspec": {
   "display_name": ".venv",
   "language": "python",
   "name": "python3"
  },
  "language_info": {
   "codemirror_mode": {
    "name": "ipython",
    "version": 3
   },
   "file_extension": ".py",
   "mimetype": "text/x-python",
   "name": "python",
   "nbconvert_exporter": "python",
   "pygments_lexer": "ipython3",
   "version": "3.13.2"
  }
 },
 "nbformat": 4,
 "nbformat_minor": 2
}
